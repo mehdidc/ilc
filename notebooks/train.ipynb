{
 "cells": [
  {
   "cell_type": "code",
   "execution_count": null,
   "metadata": {
    "collapsed": false
   },
   "outputs": [],
   "source": [
    "%matplotlib inline\n",
    "import numpy as np\n",
    "from sklearn.metrics import r2_score, mean_squared_error, accuracy_score\n",
    "import matplotlib.pyplot as plt\n",
    "from sklearn.base import clone\n",
    "from sklearn.dummy import DummyRegressor, DummyClassifier\n",
    "from sklearn.gaussian_process import GaussianProcess\n",
    "from sklearn.ensemble import RandomForestRegressor, RandomForestClassifier\n",
    "from sklearn.tree import DecisionTreeRegressor\n",
    "from sklearn.cross_validation import cross_val_score, KFold\n",
    "from sklearn.linear_model import LinearRegression, LogisticRegression\n",
    "from sklearn.metrics import r2_score, mean_absolute_error, mean_squared_error\n",
    "from sklearn.svm import SVR\n",
    "from sklearn.ensemble import AdaBoostRegressor, GradientBoostingRegressor, GradientBoostingClassifier\n",
    "from sklearn.grid_search import RandomizedSearchCV\n",
    "from pyearth import Earth\n",
    "from sklearn.linear_model import SGDRegressor\n",
    "from copy import deepcopy\n",
    "from sklearn.ensemble import partial_dependence as pd\n",
    "from xgboost import XGBRegressor, XGBClassifier\n",
    "\n",
    "def root_mean_squared_error(y_true, y_pred):\n",
    "    return np.sqrt(mean_squared_error(y_true, y_pred))"
   ]
  },
  {
   "cell_type": "code",
   "execution_count": null,
   "metadata": {
    "collapsed": false
   },
   "outputs": [],
   "source": [
    "dataset = np.load('data.npz')\n",
    "X_full = dataset['X']\n",
    "X_full = X_full.reshape((X_full.shape[0], -1))\n",
    "y = dataset['y']\n",
    "\n",
    "X_full = X_full.reshape((X_full.shape[0], 18, 18, 30))\n",
    "X_full = X_full.transpose((0, 3, 1, 2))\n",
    "X_full = X_full.reshape((X_full.shape[0], -1))\n",
    "indices = np.arange(len(X_full))\n",
    "np.random.shuffle(indices)\n",
    "X_full = X_full[indices]\n",
    "y_full = y[indices]"
   ]
  },
  {
   "cell_type": "code",
   "execution_count": null,
   "metadata": {
    "collapsed": true
   },
   "outputs": [],
   "source": [
    "X_train = X_full[0:8000]\n",
    "y_train = y_full[0:8000]\n",
    "X_test = X_full[8000:]\n",
    "y_test = y_full[8000:]"
   ]
  },
  {
   "cell_type": "code",
   "execution_count": null,
   "metadata": {
    "collapsed": false
   },
   "outputs": [],
   "source": [
    "from scipy.stats import randint as sp_randint\n",
    "from scipy.stats import uniform as sp_uniform\n",
    "\n",
    "imp = []\n",
    "\n",
    "\n",
    "def train_and_get_results(folds, reg, X, y, score_fn=root_mean_squared_error):\n",
    "    X = X_full    \n",
    "    scores_train = []\n",
    "    scores_test = []\n",
    "    models = []\n",
    "    for train, test in folds:\n",
    "        reg_ = clone(reg)\n",
    "\n",
    "        m = y[train].mean()\n",
    "        s = y[train].std()\n",
    "        \n",
    "        \n",
    "        reg_.fit(X[train], (y[train]))\n",
    "\n",
    "        score = score_fn(y[train], (reg_.predict(X[train])))\n",
    "        scores_train.append(score)\n",
    "\n",
    "        score = score_fn(y[test] , (reg_.predict(X[test])))\n",
    "        scores_test.append(score)\n",
    "        models.append(reg_)\n",
    "        if hasattr(reg_, 'feature_importances_'):\n",
    "            imp.append(reg_.feature_importances_)\n",
    "    return scores_train, scores_test, models\n",
    "\n",
    "rf_param_dist = {\"max_depth\": sp_randint(1, 100),\n",
    "              \"n_estimators\": sp_randint(1, 100),\n",
    "              \"min_samples_split\": sp_randint(1, 11),\n",
    "              \"min_samples_leaf\": sp_randint(1, 11),\n",
    "              \"bootstrap\": [True, False]}\n",
    "gb_params_dist= {\n",
    "    \"learning_rate\": sp_uniform(0, 1), \n",
    "    \"n_estimators\": sp_randint(1, 200), \n",
    "    \"max_depth\": sp_randint(1, 100)\n",
    "}\n",
    "regs = [\n",
    "    #DummyRegressor(),\n",
    "    #LinearRegression(),\n",
    "    RandomForestRegressor(n_jobs=-1, n_estimators=10, max_depth=10)\n",
    "]"
   ]
  },
  {
   "cell_type": "code",
   "execution_count": null,
   "metadata": {
    "collapsed": true
   },
   "outputs": [],
   "source": [
    "d=1"
   ]
  },
  {
   "cell_type": "code",
   "execution_count": null,
   "metadata": {
    "collapsed": false
   },
   "outputs": [],
   "source": [
    "#folds = KFold(X_full.shape[0], n_folds=n_folds)\n",
    "score_fn = root_mean_squared_error\n",
    "folds= [\n",
    "   (np.arange(0, 800), np.arange(800, X_train.shape[0]))\n",
    "]\n",
    "folds = [\n",
    "    (np.arange(0, 100), np.arange(100, 200))\n",
    "]\n",
    "reg = RandomizedSearchCV(RandomForestRegressor(), rf_param_dist, cv=folds, verbose=2, n_jobs=1)\n",
    "reg.fit(X_train, y_train)\n",
    "#results = map(lambda reg:train_and_get_results(folds, reg, X_train, y_train, score_fn=score_fn), regs)"
   ]
  },
  {
   "cell_type": "code",
   "execution_count": null,
   "metadata": {
    "collapsed": false
   },
   "outputs": [],
   "source": [
    "test_mean = np.array([np.mean(scores_test) for scores_train, scores_test, models in results])\n",
    "test_std = np.array([np.std(scores_test) for scores_train, scores_test, models in results])\n",
    "\n",
    "train_mean = [np.mean(scores_train) for scores_train, scores_test, models in results]\n",
    "train_std = [np.std(scores_train) for scores_train, scores_test, models in results]\n",
    "print(train, test)\n",
    "names = [reg.__class__.__name__.replace('Regressor', '').replace('Dummy', 'Constant') for reg in regs]\n",
    "ind = np.arange(len(regs))\n",
    "\n",
    "fig, ax = plt.subplots(figsize=(8, 8))\n",
    "\n",
    "width = 0.8\n",
    "plt.xticks(ind + width/2., names)\n",
    "rects = plt.bar(ind, test_mean / test_mean.max(), width=width, color='blue')\n",
    "for i, rect in enumerate(rects):\n",
    "    height = rect.get_height()\n",
    "    ax.text(rect.get_x() + rect.get_width()/2., 1.05 * height,\n",
    "            '%.2f +/- %.3f' % (test_mean[i], test_std[i] ),\n",
    "             ha='center', va='bottom')\n",
    "plt.ylabel('{}'.format(score_fn.__name__))"
   ]
  }
 ],
 "metadata": {
  "kernelspec": {
   "display_name": "Python 2",
   "language": "python",
   "name": "python2"
  },
  "language_info": {
   "codemirror_mode": {
    "name": "ipython",
    "version": 2
   },
   "file_extension": ".py",
   "mimetype": "text/x-python",
   "name": "python",
   "nbconvert_exporter": "python",
   "pygments_lexer": "ipython2",
   "version": "2.7.12"
  }
 },
 "nbformat": 4,
 "nbformat_minor": 0
}
