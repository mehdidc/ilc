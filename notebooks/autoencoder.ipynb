{
 "metadata": {
  "name": "",
  "signature": "sha256:7c38a7c7b5b402872667e56aedf6de5a75189192a67c91e434514aab6aa33824"
 },
 "nbformat": 3,
 "nbformat_minor": 0,
 "worksheets": [
  {
   "cells": [
    {
     "cell_type": "code",
     "collapsed": false,
     "input": [],
     "language": "python",
     "metadata": {},
     "outputs": []
    }
   ],
   "metadata": {}
  }
 ]
}