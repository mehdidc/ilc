{
 "cells": [
  {
   "cell_type": "code",
   "execution_count": 1,
   "metadata": {
    "collapsed": false
   },
   "outputs": [
    {
     "name": "stderr",
     "output_type": "stream",
     "text": [
      "Using Theano backend.\n",
      "ERROR (theano.sandbox.cuda): nvcc compiler not found on $PATH. Check your nvcc installation and try again.\n"
     ]
    }
   ],
   "source": [
    "%matplotlib inline\n",
    "import os\n",
    "import matplotlib.pyplot as plt\n",
    "os.environ['THEANO_FLAGS'] = 'device=gpu'\n",
    "import numpy as np\n",
    "from keras.layers import *\n",
    "from keras.layers import Dense, Input, Dropout\n",
    "from keras.models import Sequential, Model\n",
    "from keras import backend as K\n",
    "from keras.optimizers import Adadelta, RMSprop\n",
    "from sklearn.datasets import make_blobs\n",
    "from keras.utils.np_utils import to_categorical\n",
    "from keras.callbacks import EarlyStopping, ModelCheckpoint, LearningRateScheduler\n",
    "from keras.regularizers import l2, l1\n",
    "from sklearn.ensemble import RandomForestRegressor\n",
    "import pandas as pd"
   ]
  },
  {
   "cell_type": "code",
   "execution_count": 2,
   "metadata": {
    "collapsed": true
   },
   "outputs": [],
   "source": [
    "def augment(x):\n",
    "    x = x.copy()\n",
    "    ind_z = np.random.choice((0, 1), size=x.shape[0])\n",
    "    x[ind_z] = x[ind_z, ::-1, :, :]\n",
    "\n",
    "    ind_y = np.random.choice((0, 1), size=x.shape[0])\n",
    "    x[ind_y] = x[ind_y, :, ::-1, :]\n",
    "    \n",
    "    ind_x = np.random.choice((0, 1), size=x.shape[0])\n",
    "    x[ind_x] = x[ind_x, :, :, ::-1] \n",
    "    return x\n",
    "\n",
    "class GlobalPooling3D(Layer):\n",
    "\n",
    "    def __init__(self, dim_ordering='default', **kwargs):\n",
    "        super(GlobalPooling3D, self).__init__(**kwargs)\n",
    "        if dim_ordering == 'default':\n",
    "            dim_ordering = K.image_dim_ordering()\n",
    "        self.dim_ordering = dim_ordering\n",
    "        self.input_spec = [InputSpec(ndim=5)]\n",
    "\n",
    "    def get_output_shape_for(self, input_shape):\n",
    "        #if self.dim_ordering == 'tf':\n",
    "        #    return (input_shape[0], input_shape[3])\n",
    "        #else:\n",
    "        return (input_shape[0], input_shape[1])\n",
    "\n",
    "    def call(self, x, mask=None):\n",
    "        \n",
    "        #if self.dim_ordering == 'tf':\n",
    "        #    return K.mean(x, axis=[1, 2])\n",
    "        #else:\n",
    "        return K.mean(x, axis=[2, 3, 4])\n",
    "\n",
    "    def get_config(self):\n",
    "        config = {'dim_ordering': self.dim_ordering}\n",
    "        base_config = super(GlobalPooling3D, self).get_config()\n",
    "        return dict(list(base_config.items()) + list(config.items()))"
   ]
  },
  {
   "cell_type": "code",
   "execution_count": 4,
   "metadata": {
    "collapsed": false
   },
   "outputs": [
    {
     "name": "stdout",
     "output_type": "stream",
     "text": [
      "(8300, 1, 30, 18, 18)\n"
     ]
    }
   ],
   "source": [
    "dataset = np.load('../data/train.npz')\n",
    "X_full = dataset['X']\n",
    "X_full = X_full.reshape((X_full.shape[0], -1))\n",
    "y = dataset['y']\n",
    "\n",
    "X_full = X_full.reshape((X_full.shape[0], 1, 18, 18, 30))\n",
    "X_full = X_full.transpose((0, 1, 4, 2, 3))\n",
    "print(X_full.shape)\n",
    "indices = np.arange(len(X_full))\n",
    "np.random.shuffle(indices)\n",
    "X_full = X_full[indices]\n",
    "y_full = y[indices]"
   ]
  },
  {
   "cell_type": "code",
   "execution_count": 8,
   "metadata": {
    "collapsed": false
   },
   "outputs": [
    {
     "name": "stdout",
     "output_type": "stream",
     "text": [
      "(0.92149078845977783, 9.9999227523803711)\n"
     ]
    },
    {
     "data": {
      "image/png": "[encoded data removed]",
      "text/plain": [
       "<matplotlib.figure.Figure at 0x7f6a06ba7e10>"
      ]
     },
     "metadata": {},
     "output_type": "display_data"
    }
   ],
   "source": [
    "plt.hist(y.flatten())\n",
    "plt.xlabel('initial energy(Gev)')\n",
    "print(y.min(),y.max())"
   ]
  },
  {
   "cell_type": "code",
   "execution_count": null,
   "metadata": {
    "collapsed": true
   },
   "outputs": [],
   "source": [
    "X_train = X_full[0:8000]\n",
    "y_train = y_full[0:8000]\n",
    "X_test = X_full[8000:]\n",
    "y_test = y_full[8000:]"
   ]
  },
  {
   "cell_type": "code",
   "execution_count": null,
   "metadata": {
    "collapsed": false
   },
   "outputs": [],
   "source": [
    "print(X_full.shape)"
   ]
  },
  {
   "cell_type": "code",
   "execution_count": null,
   "metadata": {
    "collapsed": true
   },
   "outputs": [],
   "source": [
    "def build_model_conv2d():\n",
    "    \n",
    "    inp = Input(shape=(X_full.shape[1], X_full.shape[2], X_full.shape[3], X_full.shape[4]))\n",
    "    \n",
    "    x = inp\n",
    "    x = Reshape((X_full.shape[2], X_full.shape[3], X_full.shape[4]))(x)\n",
    "    x = Convolution2D(16, 3, 3, activation='relu', border_mode='same')(x)\n",
    "    x = Convolution2D(16, 3, 3, activation='relu', border_mode='same')(x)\n",
    "    x = Convolution2D(16, 3, 3, activation='relu', border_mode='same')(x)\n",
    "\n",
    "    x = Convolution2D(16, 3, 3, activation='relu', border_mode='same')(x)\n",
    "    x = Convolution2D(16, 3, 3, activation='relu', border_mode='same')(x)\n",
    "    x = Convolution2D(16, 3, 3, activation='relu', border_mode='same')(x)\n",
    "\n",
    "    x = MaxPooling2D((2, 2))(x)\n",
    "    \n",
    "    x = Convolution2D(32, 3, 3, activation='relu', border_mode='same')(x)\n",
    "    x = Convolution2D(32, 3, 3, activation='relu', border_mode='same')(x)\n",
    "    x = Convolution2D(32, 3, 3, activation='relu', border_mode='same')(x)\n",
    "    \n",
    "    x = Convolution2D(32, 3, 3, activation='relu', border_mode='same')(x)\n",
    "    x = Convolution2D(32, 3, 3, activation='relu', border_mode='same')(x)\n",
    "    x = Convolution2D(32, 3, 3, activation='relu', border_mode='same')(x)\n",
    "\n",
    "    x = MaxPooling2D((2, 2))(x)\n",
    "    x = Convolution2D(64, 3, 3, activation='relu', border_mode='same')(x)\n",
    "    x = Convolution2D(64, 3, 3, activation='relu', border_mode='same')(x)\n",
    "    x = Convolution2D(64, 3, 3, activation='relu', border_mode='same')(x)\n",
    "    x = Convolution2D(64, 3, 3, activation='relu', border_mode='same')(x)\n",
    "\n",
    "    x = GlobalAveragePooling2D()(x)    \n",
    "    out = Dense(y.shape[1])(x)\n",
    "    model = Model(input=inp, output=out)\n",
    "    optimizer = RMSprop(lr=0.0001)\n",
    "    model.compile(optimizer=optimizer,\n",
    "                  loss='mean_squared_error',\n",
    "                  metrics=['mean_squared_error'])\n",
    "    return model\n",
    "\n",
    "def build_model_conv3d():\n",
    "    \n",
    "    inp = Input(shape=(X_full.shape[1], X_full.shape[2], X_full.shape[3], X_full.shape[4]))\n",
    "    \n",
    "    x = inp\n",
    "    \n",
    "    x = Convolution3D(16, 3, 3, 3, activation='relu', border_mode='same')(x)\n",
    "    x = Convolution3D(16, 3, 3, 3, activation='relu', border_mode='same')(x)\n",
    "    x = Convolution3D(16, 3, 3, 3, activation='relu', border_mode='same')(x)\n",
    "    x = MaxPooling3D((2, 2, 2))(x)\n",
    "    \n",
    "    x = Convolution3D(32, 3, 3, 3, activation='relu', border_mode='same')(x)\n",
    "    x = Convolution3D(32, 3, 3, 3, activation='relu', border_mode='same')(x)\n",
    "    x = Convolution3D(32, 3, 3, 3, activation='relu', border_mode='same')(x)\n",
    "    \n",
    "    x = Convolution3D(32, 3, 3, 3, activation='relu', border_mode='same')(x)\n",
    "    x = Convolution3D(32, 3, 3, 3, activation='relu', border_mode='same')(x)\n",
    "    x = Convolution3D(32, 3, 3, 3, activation='relu', border_mode='same')(x)\n",
    "\n",
    "    x = MaxPooling3D((2, 2, 2))(x)\n",
    "    x = Convolution3D(64, 3, 3, 3, activation='relu', border_mode='same')(x)\n",
    "    x = Convolution3D(64, 3, 3, 3, activation='relu', border_mode='same')(x)\n",
    "    x = Convolution3D(64, 3, 3, 3, activation='relu', border_mode='same')(x)\n",
    "    x = Convolution3D(64, 3, 3, 3, activation='relu', border_mode='same')(x)\n",
    "\n",
    "    x = GlobalPooling3D()(x)    \n",
    "    out = Dense(y.shape[1])(x)\n",
    "    model = Model(input=inp, output=out)\n",
    "    optimizer = RMSprop(lr=0.0001)\n",
    "    model.compile(optimizer=optimizer,\n",
    "                  loss='mean_squared_error',\n",
    "                  metrics=['mean_squared_error'])\n",
    "    return model"
   ]
  },
  {
   "cell_type": "code",
   "execution_count": null,
   "metadata": {
    "collapsed": false
   },
   "outputs": [],
   "source": [
    "model = build_model_conv2d()\n",
    "print(model.summary())"
   ]
  },
  {
   "cell_type": "code",
   "execution_count": null,
   "metadata": {
    "collapsed": false
   },
   "outputs": [],
   "source": [
    "callbacks = [\n",
    "    EarlyStopping(monitor='val_mean_squared_error',\n",
    "                  patience=10,\n",
    "                  verbose=1,\n",
    "                  mode='auto'),\n",
    "    # this is used to save the model in a filename\n",
    "    # it saves only the model at the epoch which gives\n",
    "    # the best validation accuracy (because we use 'val_acc')\n",
    "    ModelCheckpoint('model.pkl', monitor='val_mean_squared_error',\n",
    "                    verbose=1,\n",
    "                    save_best_only=True,\n",
    "                    mode='auto'),\n",
    "]\n",
    "\n",
    "model.fit(X_train, y_train, \n",
    "          validation_split=0.1,\n",
    "          verbose=2,\n",
    "          nb_epoch=100,\n",
    "          callbacks=callbacks)"
   ]
  },
  {
   "cell_type": "code",
   "execution_count": null,
   "metadata": {
    "collapsed": false
   },
   "outputs": [],
   "source": [
    "train_err = model.history.history['mean_squared_error']\n",
    "valid_err = model.history.history['val_mean_squared_error']"
   ]
  },
  {
   "cell_type": "code",
   "execution_count": null,
   "metadata": {
    "collapsed": false
   },
   "outputs": [],
   "source": [
    "plt.plot(train_err, label='train')\n",
    "plt.plot(valid_err, label='valid')\n",
    "plt.legend(loc='best')\n",
    "plt.show()"
   ]
  },
  {
   "cell_type": "code",
   "execution_count": null,
   "metadata": {
    "collapsed": false
   },
   "outputs": [],
   "source": [
    "model.load_weights('model.pkl') # load the model in the epoch which gave the best validation accuracy\n",
    "score = model.evaluate(X_test, y_test, verbose=0) # evaluate on test data\n",
    "print('Test RMSE:', np.sqrt(score[0]))"
   ]
  },
  {
   "cell_type": "code",
   "execution_count": null,
   "metadata": {
    "collapsed": true
   },
   "outputs": [],
   "source": [
    "d = {'pred': model.predict(X_test).flatten(), 'real': y_test.flatten()}"
   ]
  },
  {
   "cell_type": "code",
   "execution_count": null,
   "metadata": {
    "collapsed": false
   },
   "outputs": [],
   "source": [
    "pd.DataFrame(d).sample(50)"
   ]
  }
 ],
 "metadata": {
  "kernelspec": {
   "display_name": "Python 2",
   "language": "python",
   "name": "python2"
  },
  "language_info": {
   "codemirror_mode": {
    "name": "ipython",
    "version": 2
   },
   "file_extension": ".py",
   "mimetype": "text/x-python",
   "name": "python",
   "nbconvert_exporter": "python",
   "pygments_lexer": "ipython2",
   "version": "2.7.12"
  }
 },
 "nbformat": 4,
 "nbformat_minor": 0
}
