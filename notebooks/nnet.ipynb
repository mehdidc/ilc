{
 "cells": [
  {
   "cell_type": "code",
   "execution_count": null,
   "metadata": {
    "collapsed": false
   },
   "outputs": [],
   "source": [
    "%matplotlib inline\n",
    "import os\n",
    "import matplotlib.pyplot as plt\n",
    "os.environ['THEANO_FLAGS'] = 'device=gpu'\n",
    "import numpy as np\n",
    "from keras.layers import *\n",
    "from keras.layers import Dense, Input, Dropout\n",
    "from keras.models import Sequential, Model\n",
    "from keras.optimizers import Adadelta, RMSprop\n",
    "from sklearn.datasets import make_blobs\n",
    "from keras.utils.np_utils import to_categorical\n",
    "from keras.callbacks import EarlyStopping, ModelCheckpoint, LearningRateScheduler\n",
    "from keras.regularizers import l2, l1"
   ]
  },
  {
   "cell_type": "code",
   "execution_count": null,
   "metadata": {
    "collapsed": false
   },
   "outputs": [],
   "source": [
    "dataset = np.load('data.npz')\n",
    "X_full = dataset['X']\n",
    "X_full = X_full.reshape((X_full.shape[0], -1))\n",
    "y = dataset['nMCparticles']\n",
    "y_orig = y.copy()\n",
    "#y = y > 6\n",
    "y = to_categorical(y) \n",
    "\n",
    "X_full = X_full.reshape((X_full.shape[0], 18, 18, 30))\n",
    "#X_full = X_full.transpose((0, 3, 1, 2))\n",
    "\n",
    "\n",
    "\n",
    "indices = np.arange(len(X_full))\n",
    "np.random.shuffle(indices)\n",
    "X_full = X_full[indices]\n",
    "y_full = y[indices]\n",
    "#X_full[X_full>0] = 1\n",
    "#X_full[X_full==0] = -1\n",
    "\n"
   ]
  },
  {
   "cell_type": "code",
   "execution_count": null,
   "metadata": {
    "collapsed": false
   },
   "outputs": [],
   "source": [
    "plt.hist(y_orig)"
   ]
  },
  {
   "cell_type": "code",
   "execution_count": null,
   "metadata": {
    "collapsed": true
   },
   "outputs": [],
   "source": [
    "X_train = X_full[0:3000]\n",
    "y_train = y_full[0:3000]\n",
    "X_valid = X_full[3000:]\n",
    "y_valid = y_full[3000:]"
   ]
  },
  {
   "cell_type": "code",
   "execution_count": null,
   "metadata": {
    "collapsed": true
   },
   "outputs": [],
   "source": [
    "def build_model():\n",
    "    \n",
    "    inp = Input(shape=(X_full.shape[1], X_full.shape[2], X_full.shape[3]))\n",
    "    \n",
    "    x = inp\n",
    "    \n",
    "    \n",
    "    x = Convolution2D(16, 3, 3, activation='relu')(x)\n",
    "    x = Convolution2D(16, 3, 3, activation='relu')(x)\n",
    "    x = Convolution2D(16, 3, 3, activation='relu')(x)\n",
    "    x = Convolution2D(32, 3, 3, activation='relu')(x)\n",
    "    x = Convolution2D(32, 3, 3, activation='relu')(x)\n",
    "    x = Convolution2D(32, 3, 3, activation='relu')(x)\n",
    "    x = Convolution2D(64, 3, 3, activation='relu')(x)\n",
    "    x = Convolution2D(64, 3, 3, activation='relu')(x)\n",
    "    \n",
    "    x = Flatten()(x)\n",
    "    \n",
    "    #x = Dense(100, activation='relu')(x)\n",
    "    #x = Dense(100, activation='relu')(x)\n",
    "    out = Dense(y.shape[1], activation='softmax')(x)\n",
    "\n",
    "    model = Model(input=inp, output=out)\n",
    "    optimizer = RMSprop(lr=0.0001)\n",
    "    model.compile(optimizer=optimizer,\n",
    "                  loss='categorical_crossentropy',\n",
    "                  metrics=['accuracy'])\n",
    "    return model"
   ]
  },
  {
   "cell_type": "code",
   "execution_count": null,
   "metadata": {
    "collapsed": false
   },
   "outputs": [],
   "source": [
    "model = build_model()"
   ]
  },
  {
   "cell_type": "code",
   "execution_count": null,
   "metadata": {
    "collapsed": false
   },
   "outputs": [],
   "source": [
    "for i in range(30):\n",
    "    X_train_ = X_train.copy()\n",
    "\n",
    "    \"\"\"\n",
    "\n",
    "    ind_z = np.random.choice((0, 1), size=X_train.shape[0])\n",
    "    X_train_[ind_z] = X_train_[ind_z, ::-1, :, :]\n",
    "\n",
    "    ind_y = np.random.choice((0, 1), size=X_train.shape[0])\n",
    "    X_train_[ind_y] = X_train_[ind_y, :, ::-1, :]\n",
    "    \n",
    "    \n",
    "    ind_x = np.random.choice((0, 1), size=X_train.shape[0])\n",
    "    X_train_[ind_x] = X_train_[ind_x, :, :, ::-1]\n",
    "    \"\"\"\n",
    "\n",
    "    model.fit(X_train_, y_train, \n",
    "              verbose=1, \n",
    "              validation_data=(X_valid, y_valid),\n",
    "              callbacks=[EarlyStopping(monitor='val_acc', patience=10, verbose=1, mode='max')],\n",
    "              nb_epoch=1)"
   ]
  },
  {
   "cell_type": "code",
   "execution_count": null,
   "metadata": {
    "collapsed": false
   },
   "outputs": [],
   "source": [
    "w = model.layers[2].W.get_value()\n",
    "print(w.shape)\n",
    "w = w[:, 7]\n",
    "w = w.reshape((18, 18, 30))\n",
    "for i in range(30):\n",
    "    fig = plt.figure(figsize=(2, 2))\n",
    "    plt.imshow(w[:, :, i], cmap='gray')\n",
    "    plt.show()"
   ]
  }
 ],
 "metadata": {
  "kernelspec": {
   "display_name": "Python 2",
   "language": "python",
   "name": "python2"
  },
  "language_info": {
   "codemirror_mode": {
    "name": "ipython",
    "version": 2
   },
   "file_extension": ".py",
   "mimetype": "text/x-python",
   "name": "python",
   "nbconvert_exporter": "python",
   "pygments_lexer": "ipython2",
   "version": "2.7.12"
  }
 },
 "nbformat": 4,
 "nbformat_minor": 0
}
