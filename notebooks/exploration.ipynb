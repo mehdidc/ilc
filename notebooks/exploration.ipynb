{
 "cells": [
  {
   "cell_type": "code",
   "execution_count": 38,
   "metadata": {
    "collapsed": false
   },
   "outputs": [
    {
     "name": "stdout",
     "output_type": "stream",
     "text": [
      "Requirement already satisfied (use --upgrade to upgrade): root_numpy in /home/ubuntu/miniconda2/envs/python2/lib/python2.7/site-packages\r\n"
     ]
    }
   ],
   "source": [
    "import os\n",
    "!pip install root_numpy\n",
    "import ROOT\n",
    "from root_numpy import root2array, root2rec, tree2rec, list_branches\n",
    "from root_numpy.testdata import get_filepath\n",
    "import matplotlib.pyplot as plt\n",
    "from mpl_toolkits.mplot3d import Axes3D\n",
    "from root_numpy.testdata import get_filepath\n",
    "import numpy as np\n",
    "import pandas as pd\n",
    "%matplotlib inline"
   ]
  },
  {
   "cell_type": "code",
   "execution_count": 6,
   "metadata": {
    "collapsed": true
   },
   "outputs": [],
   "source": [
    "def vectorize(E, X, Y, Z):\n",
    "    v = np.zeros((18, 18, 30))\n",
    "    for e, x, y, z in zip(E, X, Y, Z):\n",
    "        v[x, y, z] = e\n",
    "    return v"
   ]
  },
  {
   "cell_type": "code",
   "execution_count": 33,
   "metadata": {
    "collapsed": false
   },
   "outputs": [],
   "source": [
    "filename = ('../rootfiles/ECalReconstruction.root')\n",
    "\n",
    "# Convert a TTree in a ROOT file into a NumPy structured array\n",
    "array = root2array(filename, 'TestTree', branches=[\"energy\", \"posx\", \"posy\", \"posz\"])\n",
    "\n",
    "n=len(array)\n",
    "data = []\n",
    "for i in range(n):\n",
    "    event = array[i]\n",
    "    energy, posx, posy, posz = event\n",
    "    datapoint = vectorize(energy, posx, posy, posz)\n",
    "    data.append(datapoint)\n",
    "data = np.array(data)"
   ]
  },
  {
   "cell_type": "code",
   "execution_count": 96,
   "metadata": {
    "collapsed": false
   },
   "outputs": [
    {
     "name": "stdout",
     "output_type": "stream",
     "text": [
      "108\n",
      "['nMCparticles', 'endX', 'endY', 'endZ', 'startX', 'startY', 'startZ', 'momentumZ', 'momentumX', 'momentumY', 'phi', 'teta', 'energy_kin', 'energy', 'mass', 'charge', 'distance', 'nMCparticles_corrected']\n"
     ]
    }
   ],
   "source": [
    "filename, tree = '../rootfiles/ECalReconstruction.root', 'Content'\n",
    "array = root2array(filename, tree, branches=['posx', 'posy', 'posz'])\n",
    "print(len(array[0][0]))\n",
    "list_branches(filename, 'Content')\n",
    "\n",
    "filename, tree = '../rootfiles/Secondaries.root', 'MCParticles'\n",
    "print(list_branches(filename, 'MCParticles'))\n",
    "\n",
    "array = root2array(filename, tree, branches=['nMCparticles'])\n",
    "nMCparticles = np.array(array.tolist())[:, 0]"
   ]
  },
  {
   "cell_type": "code",
   "execution_count": 97,
   "metadata": {
    "collapsed": true
   },
   "outputs": [],
   "source": [
    "np.savez('data.npz', X=data, nMCparticles=nMCparticles)"
   ]
  },
  {
   "cell_type": "markdown",
   "metadata": {},
   "source": [
    "## exploration"
   ]
  },
  {
   "cell_type": "code",
   "execution_count": 93,
   "metadata": {
    "collapsed": false
   },
   "outputs": [],
   "source": [
    "from sklearn.ensemble import RandomForestRegressor"
   ]
  },
  {
   "cell_type": "code",
   "execution_count": 91,
   "metadata": {
    "collapsed": false
   },
   "outputs": [],
   "source": [
    "dataset = np.load('data.npz')\n",
    "X = dataset['X']\n",
    "y = dataset['nMCparticles']"
   ]
  },
  {
   "cell_type": "code",
   "execution_count": null,
   "metadata": {
    "collapsed": true
   },
   "outputs": [],
   "source": []
  }
 ],
 "metadata": {
  "kernelspec": {
   "display_name": "Python 2",
   "language": "python",
   "name": "python2"
  },
  "language_info": {
   "codemirror_mode": {
    "name": "ipython",
    "version": 2
   },
   "file_extension": ".py",
   "mimetype": "text/x-python",
   "name": "python",
   "nbconvert_exporter": "python",
   "pygments_lexer": "ipython2",
   "version": "2.7.12"
  }
 },
 "nbformat": 4,
 "nbformat_minor": 0
}
