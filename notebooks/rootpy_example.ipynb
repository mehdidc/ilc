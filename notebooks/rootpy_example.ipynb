{
 "metadata": {
  "name": "",
  "signature": "sha256:4736e7673bfae8dc5fdfad3cd07cdeb30e580ad1bb83499ad0c455a89826e8cb"
 },
 "nbformat": 3,
 "nbformat_minor": 0,
 "worksheets": [
  {
   "cells": [
    {
     "cell_type": "code",
     "collapsed": false,
     "input": [
      "import os\n",
      "\n",
      "import ROOT\n",
      "from root_numpy import root2array, root2rec, tree2rec\n",
      "from root_numpy.testdata import get_filepath\n",
      "import matplotlib.pyplot as plt\n",
      "from mpl_toolkits.mplot3d import Axes3D\n",
      "from root_numpy.testdata import get_filepath\n",
      "import numpy as np\n",
      "%matplotlib inline\n",
      "\n"
     ],
     "language": "python",
     "metadata": {},
     "outputs": [],
     "prompt_number": 1
    },
    {
     "cell_type": "code",
     "collapsed": false,
     "input": [
      "filename = ('../rootfiles/ECalReconstruction.root')\n",
      "\n",
      "# Convert a TTree in a ROOT file into a NumPy structured array\n",
      "array = root2array(filename, 'TestTree', branches=[\"energy\", \"posx\", \"posy\", \"posz\"])\n",
      "\n",
      "fig = plt.figure()\n",
      "n=4\n",
      "n_s=4\n",
      "for i in range(n):\n",
      "    event_id = np.random.randint(0, len(array)-1)\n",
      "    event = array[event_id]\n",
      "    energy, posx, posy, posz = event\n",
      "    ax = fig.add_subplot(n_s, n_s, i + 1, projection='3d', alpha=0.8)\n",
      "    ax.scatter(posx, posz, posy, c=energy, cmap='autumn_r', marker='o', s=18)\n",
      "    ax.set_xlabel(\"x\")\n",
      "    ax.set_ylabel(\"z\")\n",
      "    ax.set_zlabel(\"y\")\n",
      "\n",
      "plt.show()\n"
     ],
     "language": "python",
     "metadata": {},
     "outputs": [
      {
       "metadata": {},
       "output_type": "display_data",
       "png": "[encoded data removed]",
       "text": [
        "<matplotlib.figure.Figure at 0xad33894c>"
       ]
      }
     ],
     "prompt_number": 5
    }
   ],
   "metadata": {}
  }
 ]
}